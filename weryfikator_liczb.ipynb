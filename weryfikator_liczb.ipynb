{
  "nbformat": 4,
  "nbformat_minor": 0,
  "metadata": {
    "colab": {
      "provenance": [],
      "authorship_tag": "ABX9TyOtEbLZ/JQahEZxPl093sAe",
      "include_colab_link": true
    },
    "kernelspec": {
      "name": "python3",
      "display_name": "Python 3"
    },
    "language_info": {
      "name": "python"
    }
  },
  "cells": [
    {
      "cell_type": "markdown",
      "metadata": {
        "id": "view-in-github",
        "colab_type": "text"
      },
      "source": [
        "<a href=\"https://colab.research.google.com/github/Szczureczek1983/Python_exercises_2/blob/main/weryfikator_liczb.ipynb\" target=\"_parent\"><img src=\"https://colab.research.google.com/assets/colab-badge.svg\" alt=\"Open In Colab\"/></a>"
      ]
    },
    {
      "cell_type": "code",
      "execution_count": 13,
      "metadata": {
        "colab": {
          "base_uri": "https://localhost:8080/"
        },
        "id": "sPTaiTDn80nm",
        "outputId": "78bd8c2b-ee6b-432d-d102-ac7d53757fb1"
      },
      "outputs": [
        {
          "output_type": "stream",
          "name": "stdout",
          "text": [
            "Podaj liczbę: 922\n",
            "Podana liczba spełnia podane warunki\n",
            "Jeszcze raz (t/n)? t\n",
            "Podaj liczbę: 914\n",
            "Podana liczba nie spełnia podanych warunków\n",
            "Jeszcze raz (t/n)? n\n",
            "Koniec.\n"
          ]
        }
      ],
      "source": [
        "op = \"t\"\n",
        "while op == \"t\":\n",
        "  num = int(input(\"Podaj liczbę: \"))\n",
        "  if num % 34 == 4 and num > 4**4:\n",
        "    print(\"Podana liczba spełnia podane warunki\")\n",
        "  else:\n",
        "    print(\"Podana liczba nie spełnia podanych warunków\")\n",
        "  op = input(\"Jeszcze raz (t/n)? \")\n",
        "print(\"Koniec.\")\n",
        "\n",
        "\n",
        "\n",
        "\n"
      ]
    }
  ]
}