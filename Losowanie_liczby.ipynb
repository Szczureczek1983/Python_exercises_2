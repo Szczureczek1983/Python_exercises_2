{
  "nbformat": 4,
  "nbformat_minor": 0,
  "metadata": {
    "colab": {
      "provenance": [],
      "authorship_tag": "ABX9TyNJ/cTnrPKO2R4rCm0e9cVG",
      "include_colab_link": true
    },
    "kernelspec": {
      "name": "python3",
      "display_name": "Python 3"
    },
    "language_info": {
      "name": "python"
    }
  },
  "cells": [
    {
      "cell_type": "markdown",
      "metadata": {
        "id": "view-in-github",
        "colab_type": "text"
      },
      "source": [
        "<a href=\"https://colab.research.google.com/github/Szczureczek1983/Python_exercises_2/blob/main/Losowanie_liczby.ipynb\" target=\"_parent\"><img src=\"https://colab.research.google.com/assets/colab-badge.svg\" alt=\"Open In Colab\"/></a>"
      ]
    },
    {
      "cell_type": "code",
      "source": [
        "# import random\n",
        "# def test(nums):\n",
        "#   return nums.count(19) == 2 and nums.count(5) >= 3\n",
        "# ileliczb = int(input(\"Podaj ilość typowanych liczb: \"))\n",
        "# maksliczba = int(input(\"Podaj maksymalną losowaną liczbę: \"))\n",
        "# nums = []\n",
        "# i = 0\n",
        "# for i in range(ileliczb):\n",
        "#     liczba = random.randint(1, maksliczba)\n",
        "#     nums.append(liczba)\n",
        "#     i = i + 1\n",
        "# print(\"Wylosowane liczby\", nums)\n",
        "# print('check the conditions')\n",
        "# print(test(nums))\n",
        "# print(nums.count(19))\n",
        "# print(nums.count(5))"
      ],
      "metadata": {
        "colab": {
          "base_uri": "https://localhost:8080/"
        },
        "id": "zeAy-1zP_QhO",
        "outputId": "46e20093-1f3d-4997-8038-fd1f1e4e4bf2"
      },
      "execution_count": 2,
      "outputs": [
        {
          "output_type": "stream",
          "name": "stdout",
          "text": [
            "Podaj ilość typowanych liczb: 100\n",
            "Podaj maksymalną losowaną liczbę: 20\n",
            "Wylosowane liczby [19, 10, 9, 11, 10, 19, 20, 2, 16, 3, 3, 3, 3, 17, 13, 11, 2, 12, 8, 19, 10, 2, 5, 16, 7, 17, 8, 15, 11, 18, 15, 19, 4, 12, 20, 3, 5, 3, 6, 7, 2, 12, 16, 3, 5, 4, 20, 8, 13, 6, 16, 16, 5, 4, 12, 18, 13, 16, 10, 5, 1, 18, 3, 7, 19, 16, 10, 15, 15, 16, 14, 8, 10, 9, 16, 1, 8, 19, 13, 17, 5, 3, 8, 6, 6, 17, 5, 8, 18, 4, 16, 3, 8, 1, 8, 13, 19, 1, 8, 8]\n",
            "check the conditions\n",
            "False\n",
            "7\n",
            "7\n"
          ]
        }
      ]
    },
    {
      "cell_type": "code",
      "source": [
        "import random\n",
        "ileliczb = int(input(\"Podaj ilość typowanych liczb: \"))\n",
        "maksliczba = int(input(\"Podaj maksymalną losowaną liczbę: \"))\n",
        "nums = []\n",
        "i = 0\n",
        "for i in range(ileliczb):\n",
        "    liczba = random.randint(1, maksliczba)\n",
        "    nums.append(liczba)\n",
        "    i = i + 1\n",
        "print(\"Wylosowane liczby\", nums)\n",
        "def test(nums):\n",
        "  if nums.count(19) == 2 and nums.count(5) >= 3:\n",
        "    return True\n",
        "  else:\n",
        "    return False\n",
        "print('check the conditions')\n",
        "print(test(nums))\n",
        "print(nums.count(19))\n",
        "print(nums.count(5))"
      ],
      "metadata": {
        "colab": {
          "base_uri": "https://localhost:8080/"
        },
        "id": "YvNLHSKuEw-y",
        "outputId": "0a33a60c-800a-42f4-c67b-2e523516eb77"
      },
      "execution_count": 19,
      "outputs": [
        {
          "output_type": "stream",
          "name": "stdout",
          "text": [
            "check the conditions\n",
            "False\n",
            "11\n",
            "3\n"
          ]
        }
      ]
    },
    {
      "cell_type": "code",
      "source": [
        "#ileliczb = int(input(\"Podaj ilość typowanych liczb: \"))\n",
        "  #maksliczba = int(input(\"Podaj maksymalną losowaną liczbę: \"))\n",
        "  nums = []\n",
        "  i = 0\n",
        "  for i in range(5):\n",
        "    liczba = random.randint(1, 19)\n",
        "    nums.append(liczba)\n",
        "    i = i + 1"
      ],
      "metadata": {
        "id": "T_t6ZVxX9e20"
      },
      "execution_count": null,
      "outputs": []
    }
  ]
}