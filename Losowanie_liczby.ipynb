{
  "nbformat": 4,
  "nbformat_minor": 0,
  "metadata": {
    "colab": {
      "provenance": [],
      "authorship_tag": "ABX9TyNdJ6El6qVfMn107gbZccqO",
      "include_colab_link": true
    },
    "kernelspec": {
      "name": "python3",
      "display_name": "Python 3"
    },
    "language_info": {
      "name": "python"
    }
  },
  "cells": [
    {
      "cell_type": "markdown",
      "metadata": {
        "id": "view-in-github",
        "colab_type": "text"
      },
      "source": [
        "<a href=\"https://colab.research.google.com/github/Szczureczek1983/Python_exercises_2/blob/main/Losowanie_liczby.ipynb\" target=\"_parent\"><img src=\"https://colab.research.google.com/assets/colab-badge.svg\" alt=\"Open In Colab\"/></a>"
      ]
    },
    {
      "cell_type": "code",
      "source": [
        "import random\n",
        "ileliczb = int(input(\"Podaj ilość typowanych liczb: \"))\n",
        "maksliczba = int(input(\"Podaj maksymalną losowaną liczbę: \"))\n",
        "nums = []\n",
        "i = 0\n",
        "for i in range(ileliczb):\n",
        "    liczba = random.randint(1, maksliczba)\n",
        "    nums.append(liczba)\n",
        "    i = i + 1\n",
        "print(\"Wylosowane liczby:\")\n",
        "print(nums)\n",
        "def test(nums):\n",
        "  if nums.count(19) == 2 and nums.count(5) >= 3:\n",
        "    print(\"Sukces!\")\n",
        "  else:\n",
        "    print(\"Niestety, nie udało się!\")\n",
        "  return nums\n",
        "print('check the conditions')\n",
        "test(nums)\n",
        "print(nums.count(19), \"wystąpień liczby 19\")\n",
        "print(nums.count(5), \"wystąpień liczby 5\")"
      ],
      "metadata": {
        "colab": {
          "base_uri": "https://localhost:8080/"
        },
        "id": "YvNLHSKuEw-y",
        "outputId": "46ad540c-0030-4337-9534-03de9ac6221e"
      },
      "execution_count": 25,
      "outputs": [
        {
          "output_type": "stream",
          "name": "stdout",
          "text": [
            "Podaj ilość typowanych liczb: 100\n",
            "Podaj maksymalną losowaną liczbę: 19\n",
            "Wylosowane liczby:\n",
            "[1, 6, 8, 9, 19, 5, 11, 6, 17, 4, 1, 17, 16, 12, 9, 6, 13, 19, 2, 3, 3, 7, 19, 10, 14, 3, 15, 7, 2, 10, 12, 10, 9, 10, 15, 4, 3, 19, 10, 14, 7, 9, 14, 19, 19, 17, 12, 1, 4, 8, 7, 4, 19, 10, 4, 14, 4, 6, 2, 10, 19, 11, 17, 9, 7, 14, 2, 8, 4, 18, 8, 11, 7, 3, 5, 6, 15, 4, 17, 6, 16, 13, 6, 10, 12, 9, 14, 19, 7, 19, 5, 1, 4, 11, 16, 10, 14, 4, 18, 16]\n",
            "check the conditions\n",
            "Niestety, nie udało się!\n",
            "10 wystąpień liczby 19\n",
            "3 wystąpień liczby 5\n"
          ]
        }
      ]
    }
  ]
}