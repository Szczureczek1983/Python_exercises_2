{
  "nbformat": 4,
  "nbformat_minor": 0,
  "metadata": {
    "colab": {
      "provenance": [],
      "authorship_tag": "ABX9TyOGRacMiLyyuweO7qIz46Ya",
      "include_colab_link": true
    },
    "kernelspec": {
      "name": "python3",
      "display_name": "Python 3"
    },
    "language_info": {
      "name": "python"
    }
  },
  "cells": [
    {
      "cell_type": "markdown",
      "metadata": {
        "id": "view-in-github",
        "colab_type": "text"
      },
      "source": [
        "<a href=\"https://colab.research.google.com/github/Szczureczek1983/Python_exercises_2/blob/main/separator_liczb.ipynb\" target=\"_parent\"><img src=\"https://colab.research.google.com/assets/colab-badge.svg\" alt=\"Open In Colab\"/></a>"
      ]
    },
    {
      "cell_type": "code",
      "execution_count": 10,
      "metadata": {
        "colab": {
          "base_uri": "https://localhost:8080/"
        },
        "id": "NKV-dou7Gaw2",
        "outputId": "f9cab7e2-5ff5-41b2-b6d0-058cce4f8ff6"
      },
      "outputs": [
        {
          "output_type": "stream",
          "name": "stdout",
          "text": [
            "Podaj liczbę: 922\n",
            "Podana liczba spełnia podane warunki\n",
            "Yes_list: 1\n",
            "Jeszcze raz (t/n)? t\n",
            "Podaj liczbę: 854\n",
            "Podana liczba spełnia podane warunki\n",
            "Yes_list: 2\n",
            "Jeszcze raz (t/n)? n\n",
            "Koniec.\n",
            "2\n"
          ]
        }
      ],
      "source": [
        "Yes_list = 0\n",
        "No_list = 0\n",
        "op = \"t\"\n",
        "while op == \"t\":\n",
        "  num = int(input(\"Podaj liczbę: \"))\n",
        "  if num % 34 == 4 and num > 4**4:\n",
        "    print(\"Podana liczba spełnia podane warunki\")\n",
        "    Yes_list = Yes_list + 1\n",
        "    print(\"Yes_list:\", Yes_list)\n",
        "  else:\n",
        "    print(\"Podana liczba nie spełnia podanych warunków\")\n",
        "    No_list = No_list + 1\n",
        "    print(\"No_list:\", No_list)\n",
        "  op = input(\"Jeszcze raz (t/n)? \")\n",
        "print(\"Koniec.\")\n",
        "print(Yes_list)\n"
      ]
    }
  ]
}